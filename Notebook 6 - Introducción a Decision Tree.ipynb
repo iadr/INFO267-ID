{
 "cells": [
  {
   "cell_type": "markdown",
   "metadata": {},
   "source": [
    "## Notebook 6: Decision Tree"
   ]
  },
  {
   "cell_type": "markdown",
   "metadata": {},
   "source": [
    "Este notebook está basado en varios videos sobre Machine Learning elaborados por <i>Google Developers</i> en Youtube. Ver: <i><a href=\"https://www.youtube.com/watch?v=cKxRvEZd3Mw\"> Machine Learning Recipes</a></i>."
   ]
  },
  {
   "cell_type": "markdown",
   "metadata": {},
   "source": [
    "Este notebook se divide en 2 partes:\n",
    "- En la primera parte se aplica un algoritmo de Árbol de Decisión para aprender un modelo capaz de clasificar los datos del dataset \"Titanic\" (visto en un notebook anterior). Compararemos su precision y recall con otros algoritmos de clasificación (kNN, Regresión Logística y Random Forest).\n",
    "- En la segunda parte se implenta un algoritmo de Árbol de Decisión <i>from scratch</i> (desde cero) en Python para identificar sus características más precisamente."
   ]
  },
  {
   "cell_type": "markdown",
   "metadata": {},
   "source": [
    "# PARTE I\n",
    "\n",
    "## 0. Preparar el dataset 'Titanic' \n",
    "\n",
    "Como en un notebook anterior, vamos a utilizar el dataset 'Titanic' con el cuál se tratar de predicir si una persona va a sobrevivir o no dadas algunas características (edad, genero, n° de niños, etc.).\n",
    "\n",
    "En primera instancia, vamos a aplicar nuevamente todos los procesos para preparar el dataset y cargarlo en un DataFrame."
   ]
  },
  {
   "cell_type": "code",
   "execution_count": 24,
   "metadata": {
    "scrolled": true
   },
   "outputs": [],
   "source": [
    "import warnings\n",
    "warnings.filterwarnings('ignore')\n",
    "import numpy as np  \n",
    "import matplotlib.pyplot as plt  \n",
    "import pandas as pd \n",
    "\n",
    "def age_approx(cols):\n",
    "    Age = cols[0]\n",
    "    Pclass = cols[1]\n",
    "    \n",
    "    if pd.isnull(Age):\n",
    "        if Pclass == 1:\n",
    "            return 37\n",
    "        elif Pclass == 2:\n",
    "            return 29\n",
    "        else:\n",
    "            return 24\n",
    "    else:\n",
    "        return Age\n",
    "\n",
    "# Read dataset to pandas dataframe\n",
    "url = 'https://raw.githubusercontent.com/BigDataGal/Python-for-Data-Science/master/titanic-train.csv'\n",
    "titanic = pd.read_csv(url)\n",
    "titanic.columns = ['PassengerId','Survived','Pclass','Name','Sex','Age','SibSp','Parch','Ticket','Fare','Cabin','Embarked']\n",
    "titanic_data = titanic.drop(['PassengerId','Name','Ticket','Cabin'], 1)\n",
    "\n",
    "titanic_data['Age'] = titanic_data[['Age', 'Pclass']].apply(age_approx, axis=1)\n",
    "titanic_data.isnull().sum()\n",
    "\n",
    "titanic_data.dropna(inplace=True)\n",
    "titanic_data.isnull().sum()\n",
    "\n",
    "gender = pd.get_dummies(titanic_data['Sex'],drop_first=True)\n",
    "embark_location = pd.get_dummies(titanic_data['Embarked'],drop_first=True)\n",
    "\n",
    "titanic_data.drop(['Sex', 'Embarked'],axis=1,inplace=True)\n",
    "\n",
    "titanic_dmy = pd.concat([titanic_data,gender,embark_location],axis=1)\n",
    "\n",
    "X = titanic_dmy.ix[:,(1,2,3,4,5,6,7,8)].values\n",
    "y = titanic_dmy.ix[:,0].values\n"
   ]
  },
  {
   "cell_type": "markdown",
   "metadata": {},
   "source": [
    "## 1. Entrenar un clasificador de tipo DecisionTree "
   ]
  },
  {
   "cell_type": "code",
   "execution_count": 25,
   "metadata": {
    "scrolled": true
   },
   "outputs": [
    {
     "name": "stdout",
     "output_type": "stream",
     "text": [
      "[[132  32]\n",
      " [ 23  80]]\n",
      "             precision    recall  f1-score   support\n",
      "\n",
      "          0       0.85      0.80      0.83       164\n",
      "          1       0.71      0.78      0.74       103\n",
      "\n",
      "avg / total       0.80      0.79      0.80       267\n",
      "\n"
     ]
    }
   ],
   "source": [
    "\n",
    "from sklearn.cross_validation import train_test_split\n",
    "X_train, X_test, y_train, y_test = train_test_split(X, y, test_size = .3, random_state=25)\n",
    "\n",
    "from sklearn import tree\n",
    "#Entrenamiento\n",
    "clf = tree.DecisionTreeClassifier().fit(X_train,y_train)\n",
    "#Predicciones\n",
    "y_pred = clf.predict(X_test)\n",
    "#Evaluación del rendimiento del clasificador\n",
    "from sklearn.metrics import confusion_matrix\n",
    "confusion_matrix = confusion_matrix(y_test, y_pred)\n",
    "print(confusion_matrix)\n",
    "#Print de la matriz de confusión\n",
    "from sklearn.metrics import classification_report\n",
    "print(classification_report(y_test, y_pred))"
   ]
  },
  {
   "cell_type": "markdown",
   "metadata": {},
   "source": [
    "Los modelos de clasificación de tipo DecisionTree tienen una caracteristica interesante (en comparación con otros algoritmos de clasificación): se puede <b>visualizar</b> el modelo y <b>entender</b> cómo toma decisiones. El código de la celda siguiente permite visualizar el modelo que hemos aprendidó."
   ]
  },
  {
   "cell_type": "code",
   "execution_count": 26,
   "metadata": {
    "scrolled": true
   },
   "outputs": [],
   "source": [
    "from sklearn.externals.six import StringIO\n",
    "import pydot #sudo python3.6 -m pip install pydot\n",
    "\n",
    "dot_data = StringIO()\n",
    "\n",
    "features=['Pclass','Age','SibSp','Parch','Fare','male','Q', 'S']\n",
    "classes=['yes','no']\n",
    "tree.export_graphviz(clf,out_file=dot_data,feature_names=features,class_names=classes, filled=True, \n",
    "                     rounded=True, impurity=False)\n",
    "\n",
    "graph = pydot.graph_from_dot_data(dot_data.getvalue())\n",
    "graph[0].write_png('modelo.png')"
   ]
  },
  {
   "cell_type": "markdown",
   "metadata": {},
   "source": [
    "<img src=\"modelo.png\">Modelo DecisionTree</img>"
   ]
  },
  {
   "cell_type": "code",
   "execution_count": 27,
   "metadata": {},
   "outputs": [],
   "source": [
    "from sklearn.ensemble import RandomForestClassifier\n",
    "\n",
    "clf = RandomForestClassifier(n_estimators=10)\n",
    "clf = clf.fit(X_train, y_train)"
   ]
  },
  {
   "cell_type": "code",
   "execution_count": 28,
   "metadata": {},
   "outputs": [
    {
     "name": "stdout",
     "output_type": "stream",
     "text": [
      "[[137  27]\n",
      " [ 31  72]]\n",
      "             precision    recall  f1-score   support\n",
      "\n",
      "          0       0.82      0.84      0.83       164\n",
      "          1       0.73      0.70      0.71       103\n",
      "\n",
      "avg / total       0.78      0.78      0.78       267\n",
      "\n"
     ]
    }
   ],
   "source": [
    "#Predicciones\n",
    "y_pred = clf.predict(X_test)\n",
    "#Evaluación del rendimiento del clasificador\n",
    "from sklearn.metrics import confusion_matrix\n",
    "confusion_matrix = confusion_matrix(y_test, y_pred)\n",
    "print(confusion_matrix)\n",
    "#Print de la matriz de confusión\n",
    "from sklearn.metrics import classification_report\n",
    "print(classification_report(y_test, y_pred))"
   ]
  },
  {
   "cell_type": "markdown",
   "metadata": {},
   "source": [
    "<b>Pregunta</b>:\n",
    "- Para resolver el problema de clasificación del dataset 'Titanic', ¿Cuál algoritmo parece funcionar mejor entre kNN, Regresión Logística, DecisionTree o Random Forest?<br>\n",
    "<b>R:</b>Random Forest\n",
    "- ¿Por qué Random Forest funciona mejor que Decision Tree? ¿Cuál es la particularidad de Random Forest?<br>\n",
    "<b>R:</b> es una combinación de árboles predictores tal que cada árbol depende de los valores de un vector aleatorio probado independientemente y con la misma distribución para cada uno de estos. Es una modificación sustancial de bagging que construye una larga colección de árboles no correlacionados y luego los promedia."
   ]
  },
  {
   "cell_type": "markdown",
   "metadata": {},
   "source": [
    "# PARTE 2\n",
    "\n",
    "## Implementar un algoritmo DecisionTree desde cero"
   ]
  },
  {
   "cell_type": "markdown",
   "metadata": {},
   "source": [
    "Este ejercicio se base en la video: https://www.youtube.com/watch?v=LDRbO9a6XPU"
   ]
  },
  {
   "cell_type": "markdown",
   "metadata": {},
   "source": [
    "Para entender más precisamente cómo y qué <b>aprenden</b> los algoritmos de tipo Decision Tree, implantamos a continuación un algoritmo desde cero en Python. En camino, presentaremos los conceptos de <b>Gini impurity</b> e <b>Information Gain</b>."
   ]
  },
  {
   "cell_type": "markdown",
   "metadata": {},
   "source": [
    "<b>a. Algoritmos de tipo Decision Tree: El ejemplo de CART</b>\n",
    "\n",
    "Existen varias variaciones de algoritmos Decision Tree, entre las cuales: ID3, C4.5, C5.0, CART <a href=\"https://en.wikipedia.org/wiki/Decision_tree\">(ver wikipedia)</a>\n",
    "Cada algoritmo comparta la misma idea: a cada nivel del árbol de decisión, el modelo formula una pregunta permitiendo poco a poco de llegar a una predicción. ¿Cómo el algoritmo sabe qué preguntas hacer y en qué orden? Es lo que vamos a responder a través del ejemplo de CART. \n",
    "\n",
    "CART (Classification and Regression Trees) inicializa la raíz del árbol con el dataset de entrenamiento completo (ver Figura). Luego busca dividir los datos del dataset con una pregunta. Los nodos siguientes reciben solamente los datos que corresponde a la respuesta. Se reitera este proceso hasta desenredar totalmente los datos (cada hoja del árbol debería tener idealmente un solo tipo de label)."
   ]
  },
  {
   "cell_type": "markdown",
   "metadata": {},
   "source": [
    "<img src=\"./CART.png\"></img>"
   ]
  },
  {
   "cell_type": "markdown",
   "metadata": {},
   "source": [
    "En nuestro ejemplo, el nodo 1 está totalmente desenredado (label: \"Grape\"). El nodo 2 tiene dos labeles, entonces preguntamos otra pregunta:"
   ]
  },
  {
   "cell_type": "markdown",
   "metadata": {},
   "source": [
    "<img src=\"./CART2.png\"></img>"
   ]
  },
  {
   "cell_type": "markdown",
   "metadata": {},
   "source": [
    "Para construir un árbol eficiente, el punto importante es identificar qué preguntas formular y cuando. Por lo tanto, necesitamos <b>cuantificar</b> en qué medida una pregunta permite desenredar los labeles. Para hacer eso se utiliza 2 métricas:\n",
    "- el coeficiente de '<b>Gini impurity</b>': mide que tan desenredados están los labeles de un nodo.\n",
    "- el coeficiente de '<b>Information Gain</b>': mide cuánto una pregunta permite bajar el 'Gini impurity'."
   ]
  },
  {
   "cell_type": "markdown",
   "metadata": {},
   "source": [
    "<img src=\"./CART3.png\"></img>"
   ]
  },
  {
   "cell_type": "markdown",
   "metadata": {},
   "source": [
    "Utilizaremos estas métricas para estimar qué preguntas hacer."
   ]
  },
  {
   "cell_type": "markdown",
   "metadata": {},
   "source": [
    "<b>b. ¿Qué preguntas formular?</b>"
   ]
  },
  {
   "cell_type": "markdown",
   "metadata": {},
   "source": [
    "<img src=\"./CART4.png\"></img>"
   ]
  },
  {
   "cell_type": "markdown",
   "metadata": {},
   "source": [
    "Para saber qué preguntas formular, cada nodo itera sobre las características de los datos a su disposición y define una lista de preguntas posibles."
   ]
  },
  {
   "cell_type": "markdown",
   "metadata": {},
   "source": [
    "<b>c. Partición del dataset</b>\n",
    "\n",
    "Una vez una pregunta elegida, se divide los datos en dos según la respuesta a la pregunta."
   ]
  },
  {
   "cell_type": "markdown",
   "metadata": {},
   "source": [
    "<img src=\"./CART5.png\"></img>"
   ]
  },
  {
   "cell_type": "markdown",
   "metadata": {},
   "source": [
    "<b>d. Coeficiente de Gini impurity</b>\n",
    "\n",
    "El coeficiente de Gini impurity representa la probabilidad de ser incorrecto si asigna aleatoriamente una etiqueta a un ejemplo del mismo conjunto. Por ejemplo, en los dos ejemplos siguientes: ¿Cuál es la probabilidad de equivocarse si asignamos una etiqueta del recipiente B a un dato del recipiente A?\n",
    "\n",
    "Ejemplo 1:\n",
    "<img src=\"./CART-6.png\"></img>\n",
    "\n",
    "Ejemplo 2:\n",
    "<img src=\"./CART-7.png\"></img>"
   ]
  },
  {
   "cell_type": "markdown",
   "metadata": {},
   "source": [
    "<b>e. Information Gain </b>\n",
    "\n",
    "La métrica de Information Gain permite medir qué pregunta optimiza el coeficiente de Gini impurity.\n",
    "\n",
    "Por cada nodo, empezamos por medir el coeficiente de Gini impurity de los labeles disponibles. Luego, por cada pregunta calculamos el coeficiente de Gini impurity de los dos sub-conjuntos de datos obtenidos.\n",
    "\n",
    "<img src=\"CART-8.png\"></img>\n",
    "\n",
    "Calculamos la incerteza (<i>impurity</i>) promedia ponderada para los dos subconjuntos de datos obtenidos. Por ejemplo:\n",
    "\n",
    "<img src=\"CART-9.png\"></img>\n",
    "\n",
    "Finalmente, conservamos la pregunta que permite optimizar la ganancia de información (Information Gain). En nuestro ejemplo:\n",
    "\n",
    "<b>Information Gain = 0.64 - 0.15 = 0.14</b>"
   ]
  },
  {
   "cell_type": "markdown",
   "metadata": {},
   "source": [
    "## Código del Decision Tree desde cero...\n",
    "\n",
    "<b>a. Dataset</b>\n",
    "\n",
    "Tenemos un dataset muy simple, constituido por 2 características y un label. En nuestro escenario, se trata de predecir cuál es la fruta a partir de su color y tamaño. Están libre de agregar nuevos ejemplos en el dataset para experimentar los cambios generados en el modelo...  "
   ]
  },
  {
   "cell_type": "code",
   "execution_count": 29,
   "metadata": {},
   "outputs": [],
   "source": [
    "# Toy dataset.\n",
    "# Format: each row is an example.\n",
    "# The last column is the label.\n",
    "# The first two columns are features.\n",
    "# Feel free to play with it by adding more features & examples.\n",
    "# Interesting note: I've written this so the 2nd and 5th examples\n",
    "# have the same features, but different labels - so we can see how the\n",
    "# tree handles this case.\n",
    "training_data = [\n",
    "    ['Green', 3, 'Apple'],\n",
    "    ['Yellow', 3, 'Apple'],\n",
    "    ['Red', 1, 'Grape'],\n",
    "    ['Red', 1, 'Grape'],\n",
    "    ['Yellow', 3, 'Lemon'],\n",
    "]"
   ]
  },
  {
   "cell_type": "markdown",
   "metadata": {},
   "source": [
    "Creamos una variable para indicar los nombres de cada columna del dataset:"
   ]
  },
  {
   "cell_type": "code",
   "execution_count": 30,
   "metadata": {},
   "outputs": [],
   "source": [
    "# Column labels.\n",
    "# These are used only to print the tree.\n",
    "header = [\"color\", \"diameter\", \"label\"]"
   ]
  },
  {
   "cell_type": "markdown",
   "metadata": {},
   "source": [
    "En el dataset, pueden observar que nuestros datos no son linealmente separable. Una observación de manzana y una observación de limón tienen las mismas características (segundo y quinto ejemplos del dataset). Vamos a observar cómo el algoritmo Decision Tree gestiona estos ejemplos."
   ]
  },
  {
   "cell_type": "markdown",
   "metadata": {},
   "source": [
    "<b>c. Funciones de utilidad</b>:\n",
    "\n",
    "A continuación creamos una serie de funciones Python para facilitar la observación de nuestro dataset de entrenamiento. Por cada función, creamos una pequeña demo en la celda siguiente."
   ]
  },
  {
   "cell_type": "code",
   "execution_count": 31,
   "metadata": {},
   "outputs": [],
   "source": [
    "def unique_vals(rows, col):\n",
    "    \"\"\"Find the unique values for a column in a dataset.\"\"\"\n",
    "    return set([row[col] for row in rows])"
   ]
  },
  {
   "cell_type": "code",
   "execution_count": 32,
   "metadata": {},
   "outputs": [
    {
     "data": {
      "text/plain": [
       "{'Green', 'Red', 'Yellow'}"
      ]
     },
     "execution_count": 32,
     "metadata": {},
     "output_type": "execute_result"
    }
   ],
   "source": [
    "#######\n",
    "# Demo:\n",
    "unique_vals(training_data, 0)\n",
    "#unique_vals(training_data, 1)\n",
    "#######"
   ]
  },
  {
   "cell_type": "code",
   "execution_count": 33,
   "metadata": {},
   "outputs": [],
   "source": [
    "def class_counts(rows):\n",
    "    \"\"\"Counts the number of each type of example in a dataset.\"\"\"\n",
    "    counts = {}  # a dictionary of label -> count.\n",
    "    for row in rows:\n",
    "        # in our dataset format, the label is always the last column\n",
    "        label = row[-1]\n",
    "        if label not in counts:\n",
    "            counts[label] = 0\n",
    "        counts[label] += 1\n",
    "    return counts"
   ]
  },
  {
   "cell_type": "code",
   "execution_count": 34,
   "metadata": {},
   "outputs": [
    {
     "data": {
      "text/plain": [
       "{'Apple': 2, 'Grape': 2, 'Lemon': 1}"
      ]
     },
     "execution_count": 34,
     "metadata": {},
     "output_type": "execute_result"
    }
   ],
   "source": [
    "#######\n",
    "# Demo:\n",
    "class_counts(training_data)\n",
    "#######"
   ]
  },
  {
   "cell_type": "code",
   "execution_count": 35,
   "metadata": {},
   "outputs": [
    {
     "data": {
      "text/plain": [
       "True"
      ]
     },
     "execution_count": 35,
     "metadata": {},
     "output_type": "execute_result"
    }
   ],
   "source": [
    "def is_numeric(value):\n",
    "    \"\"\"Test if a value is numeric.\"\"\"\n",
    "    return isinstance(value, int) or isinstance(value, float)\n",
    "#######\n",
    "# Demo:\n",
    "is_numeric(7)\n",
    "# is_numeric(\"Red\")\n",
    "#######"
   ]
  },
  {
   "cell_type": "code",
   "execution_count": 36,
   "metadata": {},
   "outputs": [],
   "source": [
    "class Question:\n",
    "    \"\"\"A Question is used to partition a dataset.\n",
    "\n",
    "    This class just records a 'column number' (e.g., 0 for Color) and a\n",
    "    'column value' (e.g., Green). The 'match' method is used to compare\n",
    "    the feature value in an example to the feature value stored in the\n",
    "    question. See the demo below.\n",
    "    \"\"\"\n",
    "\n",
    "    def __init__(self, column, value):\n",
    "        self.column = column\n",
    "        self.value = value\n",
    "\n",
    "    def match(self, example):\n",
    "        # Compare the feature value in an example to the\n",
    "        # feature value in this question.\n",
    "        val = example[self.column]\n",
    "        if is_numeric(val):\n",
    "            return val >= self.value\n",
    "        else:\n",
    "            return val == self.value\n",
    "\n",
    "    def __repr__(self):\n",
    "        # This is just a helper method to print\n",
    "        # the question in a readable format.\n",
    "        condition = \"==\"\n",
    "        if is_numeric(self.value):\n",
    "            condition = \">=\"\n",
    "        return \"Is %s %s %s?\" % (\n",
    "            header[self.column], condition, str(self.value))"
   ]
  },
  {
   "cell_type": "code",
   "execution_count": 37,
   "metadata": {},
   "outputs": [
    {
     "data": {
      "text/plain": [
       "Is diameter >= 3?"
      ]
     },
     "execution_count": 37,
     "metadata": {},
     "output_type": "execute_result"
    }
   ],
   "source": [
    "#######\n",
    "# Demo:\n",
    "# Let's write a question for a numeric attribute\n",
    "Question(1, 3)"
   ]
  },
  {
   "cell_type": "code",
   "execution_count": 38,
   "metadata": {},
   "outputs": [
    {
     "data": {
      "text/plain": [
       "Is color == Green?"
      ]
     },
     "execution_count": 38,
     "metadata": {},
     "output_type": "execute_result"
    }
   ],
   "source": [
    "# How about one for a categorical attribute\n",
    "q = Question(0, 'Green')\n",
    "q"
   ]
  },
  {
   "cell_type": "code",
   "execution_count": 39,
   "metadata": {},
   "outputs": [
    {
     "data": {
      "text/plain": [
       "True"
      ]
     },
     "execution_count": 39,
     "metadata": {},
     "output_type": "execute_result"
    }
   ],
   "source": [
    "# Let's pick an example from the training set...\n",
    "example = training_data[0]\n",
    "# ... and see if it matches the question\n",
    "q.match(example) # this will be true, since the first example is Green.\n",
    "#######"
   ]
  },
  {
   "cell_type": "code",
   "execution_count": 40,
   "metadata": {},
   "outputs": [],
   "source": [
    "def partition(rows, question):\n",
    "    \"\"\"Partitions a dataset.\n",
    "\n",
    "    For each row in the dataset, check if it matches the question. If\n",
    "    so, add it to 'true rows', otherwise, add it to 'false rows'.\n",
    "    \"\"\"\n",
    "    true_rows, false_rows = [], []\n",
    "    for row in rows:\n",
    "        if question.match(row):\n",
    "            true_rows.append(row)\n",
    "        else:\n",
    "            false_rows.append(row)\n",
    "    return true_rows, false_rows"
   ]
  },
  {
   "cell_type": "code",
   "execution_count": 41,
   "metadata": {},
   "outputs": [
    {
     "data": {
      "text/plain": [
       "[['Red', 1, 'Grape'], ['Red', 1, 'Grape']]"
      ]
     },
     "execution_count": 41,
     "metadata": {},
     "output_type": "execute_result"
    }
   ],
   "source": [
    "#######\n",
    "# Demo:\n",
    "# Let's partition the training data based on whether rows are Red.\n",
    "true_rows, false_rows = partition(training_data, Question(0, 'Red'))\n",
    "# This will contain all the 'Red' rows.\n",
    "true_rows"
   ]
  },
  {
   "cell_type": "code",
   "execution_count": 42,
   "metadata": {},
   "outputs": [
    {
     "data": {
      "text/plain": [
       "[['Green', 3, 'Apple'], ['Yellow', 3, 'Apple'], ['Yellow', 3, 'Lemon']]"
      ]
     },
     "execution_count": 42,
     "metadata": {},
     "output_type": "execute_result"
    }
   ],
   "source": [
    "# This will contain everything else.\n",
    "false_rows\n",
    "#######"
   ]
  },
  {
   "cell_type": "code",
   "execution_count": 43,
   "metadata": {},
   "outputs": [],
   "source": [
    "def gini(rows):\n",
    "    \"\"\"Calculate the Gini Impurity for a list of rows.\n",
    "\n",
    "    There are a few different ways to do this, I thought this one was\n",
    "    the most concise. See:\n",
    "    https://en.wikipedia.org/wiki/Decision_tree_learning#Gini_impurity\n",
    "    \"\"\"\n",
    "    counts = class_counts(rows)\n",
    "    impurity = 1\n",
    "    for lbl in counts:\n",
    "        prob_of_lbl = counts[lbl] / float(len(rows))\n",
    "        impurity -= prob_of_lbl**2\n",
    "    return impurity"
   ]
  },
  {
   "cell_type": "code",
   "execution_count": 44,
   "metadata": {},
   "outputs": [
    {
     "data": {
      "text/plain": [
       "0.0"
      ]
     },
     "execution_count": 44,
     "metadata": {},
     "output_type": "execute_result"
    }
   ],
   "source": [
    "#######\n",
    "# Demo:\n",
    "# Let's look at some example to understand how Gini Impurity works.\n",
    "#\n",
    "# First, we'll look at a dataset with no mixing.\n",
    "no_mixing = [['Apple'],\n",
    "              ['Apple']]\n",
    "# this will return 0\n",
    "gini(no_mixing)"
   ]
  },
  {
   "cell_type": "code",
   "execution_count": 45,
   "metadata": {},
   "outputs": [
    {
     "data": {
      "text/plain": [
       "0.5"
      ]
     },
     "execution_count": 45,
     "metadata": {},
     "output_type": "execute_result"
    }
   ],
   "source": [
    "# Now, we'll look at dataset with a 50:50 apples:oranges ratio\n",
    "some_mixing = [['Apple'],\n",
    "               ['Orange']]\n",
    "# this will return 0.5 - meaning, there's a 50% chance of misclassifying\n",
    "# a random example we draw from the dataset.\n",
    "gini(some_mixing)"
   ]
  },
  {
   "cell_type": "code",
   "execution_count": 46,
   "metadata": {},
   "outputs": [
    {
     "data": {
      "text/plain": [
       "0.7999999999999998"
      ]
     },
     "execution_count": 46,
     "metadata": {},
     "output_type": "execute_result"
    }
   ],
   "source": [
    "# Now, we'll look at a dataset with many different labels\n",
    "lots_of_mixing = [['Apple'],\n",
    "                  ['Orange'],\n",
    "                  ['Grape'],\n",
    "                  ['Grapefruit'],\n",
    "                  ['Blueberry']]\n",
    "# This will return 0.8\n",
    "gini(lots_of_mixing)\n",
    "#######"
   ]
  },
  {
   "cell_type": "code",
   "execution_count": 47,
   "metadata": {},
   "outputs": [],
   "source": [
    "def info_gain(left, right, current_uncertainty):\n",
    "    \"\"\"Information Gain.\n",
    "\n",
    "    The uncertainty of the starting node, minus the weighted impurity of\n",
    "    two child nodes.\n",
    "    \"\"\"\n",
    "    p = float(len(left)) / (len(left) + len(right))\n",
    "    return current_uncertainty - p * gini(left) - (1 - p) * gini(right)"
   ]
  },
  {
   "cell_type": "code",
   "execution_count": 48,
   "metadata": {},
   "outputs": [
    {
     "data": {
      "text/plain": [
       "0.6399999999999999"
      ]
     },
     "execution_count": 48,
     "metadata": {},
     "output_type": "execute_result"
    }
   ],
   "source": [
    "#######\n",
    "# Demo:\n",
    "# Calculate the uncertainy of our training data.\n",
    "current_uncertainty = gini(training_data)\n",
    "current_uncertainty"
   ]
  },
  {
   "cell_type": "code",
   "execution_count": 49,
   "metadata": {},
   "outputs": [
    {
     "data": {
      "text/plain": [
       "0.1399999999999999"
      ]
     },
     "execution_count": 49,
     "metadata": {},
     "output_type": "execute_result"
    }
   ],
   "source": [
    "# How much information do we gain by partioning on 'Green'?\n",
    "true_rows, false_rows = partition(training_data, Question(0, 'Green'))\n",
    "info_gain(true_rows, false_rows, current_uncertainty)"
   ]
  },
  {
   "cell_type": "code",
   "execution_count": 50,
   "metadata": {},
   "outputs": [
    {
     "data": {
      "text/plain": [
       "0.37333333333333324"
      ]
     },
     "execution_count": 50,
     "metadata": {},
     "output_type": "execute_result"
    }
   ],
   "source": [
    "# What about if we partioned on 'Red' instead?\n",
    "true_rows, false_rows = partition(training_data, Question(0,'Red'))\n",
    "info_gain(true_rows, false_rows, current_uncertainty)"
   ]
  },
  {
   "cell_type": "code",
   "execution_count": 51,
   "metadata": {},
   "outputs": [
    {
     "data": {
      "text/plain": [
       "[['Red', 1, 'Grape'], ['Red', 1, 'Grape']]"
      ]
     },
     "execution_count": 51,
     "metadata": {},
     "output_type": "execute_result"
    }
   ],
   "source": [
    "# It looks like we learned more using 'Red' (0.37), than 'Green' (0.14).\n",
    "# Why? Look at the different splits that result, and see which one\n",
    "# looks more 'unmixed' to you.\n",
    "true_rows, false_rows = partition(training_data, Question(0,'Red'))\n",
    "\n",
    "# Here, the true_rows contain only 'Grapes'.\n",
    "true_rows"
   ]
  },
  {
   "cell_type": "code",
   "execution_count": 52,
   "metadata": {},
   "outputs": [
    {
     "data": {
      "text/plain": [
       "[['Green', 3, 'Apple'], ['Yellow', 3, 'Apple'], ['Yellow', 3, 'Lemon']]"
      ]
     },
     "execution_count": 52,
     "metadata": {},
     "output_type": "execute_result"
    }
   ],
   "source": [
    "# And the false rows contain two types of fruit. Not too bad.\n",
    "false_rows"
   ]
  },
  {
   "cell_type": "code",
   "execution_count": 53,
   "metadata": {},
   "outputs": [
    {
     "data": {
      "text/plain": [
       "[['Green', 3, 'Apple']]"
      ]
     },
     "execution_count": 53,
     "metadata": {},
     "output_type": "execute_result"
    }
   ],
   "source": [
    "# On the other hand, partitioning by Green doesn't help so much.\n",
    "true_rows, false_rows = partition(training_data, Question(0,'Green'))\n",
    "\n",
    "# We've isolated one apple in the true rows.\n",
    "true_rows"
   ]
  },
  {
   "cell_type": "code",
   "execution_count": 54,
   "metadata": {},
   "outputs": [
    {
     "data": {
      "text/plain": [
       "[['Yellow', 3, 'Apple'],\n",
       " ['Red', 1, 'Grape'],\n",
       " ['Red', 1, 'Grape'],\n",
       " ['Yellow', 3, 'Lemon']]"
      ]
     },
     "execution_count": 54,
     "metadata": {},
     "output_type": "execute_result"
    }
   ],
   "source": [
    "# But, the false-rows are badly mixed up.\n",
    "false_rows\n",
    "#######"
   ]
  },
  {
   "cell_type": "code",
   "execution_count": 55,
   "metadata": {},
   "outputs": [],
   "source": [
    "def find_best_split(rows):\n",
    "    \"\"\"Find the best question to ask by iterating over every feature / value\n",
    "    and calculating the information gain.\"\"\"\n",
    "    best_gain = 0  # keep track of the best information gain\n",
    "    best_question = None  # keep train of the feature / value that produced it\n",
    "    current_uncertainty = gini(rows)\n",
    "    n_features = len(rows[0]) - 1  # number of columns\n",
    "\n",
    "    for col in range(n_features):  # for each feature\n",
    "\n",
    "        values = set([row[col] for row in rows])  # unique values in the column\n",
    "\n",
    "        for val in values:  # for each value\n",
    "\n",
    "            question = Question(col, val)\n",
    "\n",
    "            # try splitting the dataset\n",
    "            true_rows, false_rows = partition(rows, question)\n",
    "\n",
    "            # Skip this split if it doesn't divide the\n",
    "            # dataset.\n",
    "            if len(true_rows) == 0 or len(false_rows) == 0:\n",
    "                continue\n",
    "\n",
    "            # Calculate the information gain from this split\n",
    "            gain = info_gain(true_rows, false_rows, current_uncertainty)\n",
    "\n",
    "            # You actually can use '>' instead of '>=' here\n",
    "            # but I wanted the tree to look a certain way for our\n",
    "            # toy dataset.\n",
    "            if gain >= best_gain:\n",
    "                best_gain, best_question = gain, question\n",
    "\n",
    "    return best_gain, best_question"
   ]
  },
  {
   "cell_type": "code",
   "execution_count": 56,
   "metadata": {},
   "outputs": [
    {
     "data": {
      "text/plain": [
       "Is diameter >= 3?"
      ]
     },
     "execution_count": 56,
     "metadata": {},
     "output_type": "execute_result"
    }
   ],
   "source": [
    "#######\n",
    "# Demo:\n",
    "# Find the best question to ask first for our toy dataset.\n",
    "best_gain, best_question = find_best_split(training_data)\n",
    "best_question\n",
    "# FYI: is color == Red is just as good. See the note in the code above\n",
    "# where I used '>='.\n",
    "#######"
   ]
  },
  {
   "cell_type": "code",
   "execution_count": 57,
   "metadata": {},
   "outputs": [],
   "source": [
    "class Leaf:\n",
    "    \"\"\"A Leaf node classifies data.\n",
    "\n",
    "    This holds a dictionary of class (e.g., \"Apple\") -> number of times\n",
    "    it appears in the rows from the training data that reach this leaf.\n",
    "    \"\"\"\n",
    "\n",
    "    def __init__(self, rows):\n",
    "        self.predictions = class_counts(rows)"
   ]
  },
  {
   "cell_type": "code",
   "execution_count": 58,
   "metadata": {},
   "outputs": [],
   "source": [
    "class Decision_Node:\n",
    "    \"\"\"A Decision Node asks a question.\n",
    "\n",
    "    This holds a reference to the question, and to the two child nodes.\n",
    "    \"\"\"\n",
    "\n",
    "    def __init__(self,\n",
    "                 question,\n",
    "                 true_branch,\n",
    "                 false_branch):\n",
    "        self.question = question\n",
    "        self.true_branch = true_branch\n",
    "        self.false_branch = false_branch"
   ]
  },
  {
   "cell_type": "code",
   "execution_count": 59,
   "metadata": {},
   "outputs": [],
   "source": [
    "def build_tree(rows):\n",
    "    \"\"\"Builds the tree.\n",
    "\n",
    "    Rules of recursion: 1) Believe that it works. 2) Start by checking\n",
    "    for the base case (no further information gain). 3) Prepare for\n",
    "    giant stack traces.\n",
    "    \"\"\"\n",
    "\n",
    "    # Try partitioing the dataset on each of the unique attribute,\n",
    "    # calculate the information gain,\n",
    "    # and return the question that produces the highest gain.\n",
    "    gain, question = find_best_split(rows)\n",
    "\n",
    "    # Base case: no further info gain\n",
    "    # Since we can ask no further questions,\n",
    "    # we'll return a leaf.\n",
    "    if gain == 0:\n",
    "        return Leaf(rows)\n",
    "\n",
    "    # If we reach here, we have found a useful feature / value\n",
    "    # to partition on.\n",
    "    true_rows, false_rows = partition(rows, question)\n",
    "\n",
    "    # Recursively build the true branch.\n",
    "    true_branch = build_tree(true_rows)\n",
    "\n",
    "    # Recursively build the false branch.\n",
    "    false_branch = build_tree(false_rows)\n",
    "\n",
    "    # Return a Question node.\n",
    "    # This records the best feature / value to ask at this point,\n",
    "    # as well as the branches to follow\n",
    "    # dependingo on the answer.\n",
    "    return Decision_Node(question, true_branch, false_branch)\n"
   ]
  },
  {
   "cell_type": "code",
   "execution_count": 60,
   "metadata": {},
   "outputs": [],
   "source": [
    "def print_tree(node, spacing=\"\"):\n",
    "    \"\"\"World's most elegant tree printing function.\"\"\"\n",
    "\n",
    "    # Base case: we've reached a leaf\n",
    "    if isinstance(node, Leaf):\n",
    "        print (spacing + \"Predict\", node.predictions)\n",
    "        return\n",
    "\n",
    "    # Print the question at this node\n",
    "    print (spacing + str(node.question))\n",
    "\n",
    "    # Call this function recursively on the true branch\n",
    "    print (spacing + '--> True:')\n",
    "    print_tree(node.true_branch, spacing + \"  \")\n",
    "\n",
    "    # Call this function recursively on the false branch\n",
    "    print (spacing + '--> False:')\n",
    "    print_tree(node.false_branch, spacing + \"  \")"
   ]
  },
  {
   "cell_type": "code",
   "execution_count": 61,
   "metadata": {},
   "outputs": [],
   "source": [
    "my_tree = build_tree(training_data)"
   ]
  },
  {
   "cell_type": "code",
   "execution_count": 62,
   "metadata": {},
   "outputs": [
    {
     "name": "stdout",
     "output_type": "stream",
     "text": [
      "Is diameter >= 3?\n",
      "--> True:\n",
      "  Is color == Yellow?\n",
      "  --> True:\n",
      "    Predict {'Apple': 1, 'Lemon': 1}\n",
      "  --> False:\n",
      "    Predict {'Apple': 1}\n",
      "--> False:\n",
      "  Predict {'Grape': 2}\n"
     ]
    }
   ],
   "source": [
    "print_tree(my_tree)"
   ]
  },
  {
   "cell_type": "code",
   "execution_count": 63,
   "metadata": {},
   "outputs": [],
   "source": [
    "def classify(row, node):\n",
    "    \"\"\"See the 'rules of recursion' above.\"\"\"\n",
    "\n",
    "    # Base case: we've reached a leaf\n",
    "    if isinstance(node, Leaf):\n",
    "        return node.predictions\n",
    "\n",
    "    # Decide whether to follow the true-branch or the false-branch.\n",
    "    # Compare the feature / value stored in the node,\n",
    "    # to the example we're considering.\n",
    "    if node.question.match(row):\n",
    "        return classify(row, node.true_branch)\n",
    "    else:\n",
    "        return classify(row, node.false_branch)\n"
   ]
  },
  {
   "cell_type": "code",
   "execution_count": 64,
   "metadata": {},
   "outputs": [
    {
     "data": {
      "text/plain": [
       "{'Apple': 1}"
      ]
     },
     "execution_count": 64,
     "metadata": {},
     "output_type": "execute_result"
    }
   ],
   "source": [
    "#######\n",
    "# Demo:\n",
    "# The tree predicts the 1st row of our\n",
    "# training data is an apple with confidence 1.\n",
    "classify(training_data[0], my_tree)\n",
    "#######"
   ]
  },
  {
   "cell_type": "code",
   "execution_count": 65,
   "metadata": {},
   "outputs": [],
   "source": [
    "def print_leaf(counts):\n",
    "    \"\"\"A nicer way to print the predictions at a leaf.\"\"\"\n",
    "    total = sum(counts.values()) * 1.0\n",
    "    probs = {}\n",
    "    for lbl in counts.keys():\n",
    "        probs[lbl] = str(int(counts[lbl] / total * 100)) + \"%\"\n",
    "    return probs"
   ]
  },
  {
   "cell_type": "code",
   "execution_count": 66,
   "metadata": {},
   "outputs": [
    {
     "data": {
      "text/plain": [
       "{'Apple': '100%'}"
      ]
     },
     "execution_count": 66,
     "metadata": {},
     "output_type": "execute_result"
    }
   ],
   "source": [
    "#######\n",
    "# Demo:\n",
    "# Printing that a bit nicer\n",
    "print_leaf(classify(training_data[0], my_tree))\n",
    "######"
   ]
  },
  {
   "cell_type": "code",
   "execution_count": 67,
   "metadata": {},
   "outputs": [
    {
     "data": {
      "text/plain": [
       "{'Apple': '50%', 'Lemon': '50%'}"
      ]
     },
     "execution_count": 67,
     "metadata": {},
     "output_type": "execute_result"
    }
   ],
   "source": [
    "#######\n",
    "# Demo:\n",
    "# On the second example, the confidence is lower\n",
    "print_leaf(classify(training_data[1], my_tree))\n",
    "#######"
   ]
  },
  {
   "cell_type": "code",
   "execution_count": 68,
   "metadata": {},
   "outputs": [],
   "source": [
    "# Evaluate\n",
    "testing_data = [\n",
    "    ['Green', 3, 'Apple'],\n",
    "    ['Yellow', 4, 'Apple'],\n",
    "    ['Red', 2, 'Grape'],\n",
    "    ['Red', 1, 'Grape'],\n",
    "    ['Yellow', 3, 'Lemon'],\n",
    "]"
   ]
  },
  {
   "cell_type": "code",
   "execution_count": 69,
   "metadata": {},
   "outputs": [
    {
     "name": "stdout",
     "output_type": "stream",
     "text": [
      "Actual: Apple. Predicted: {'Apple': '100%'}\n",
      "Actual: Apple. Predicted: {'Apple': '50%', 'Lemon': '50%'}\n",
      "Actual: Grape. Predicted: {'Grape': '100%'}\n",
      "Actual: Grape. Predicted: {'Grape': '100%'}\n",
      "Actual: Lemon. Predicted: {'Apple': '50%', 'Lemon': '50%'}\n"
     ]
    }
   ],
   "source": [
    "for row in testing_data:\n",
    "    print (\"Actual: %s. Predicted: %s\" %\n",
    "           (row[-1], print_leaf(classify(row, my_tree))))"
   ]
  },
  {
   "cell_type": "markdown",
   "metadata": {},
   "source": [
    "## Trabajo práctico\n",
    "\n",
    "1) Construir un pequeño dataset de entrenamiento para resolver un problema de clasificación simple (usted lo elige)\n",
    "\n",
    "2) Utilizar la implementación de CART (código anterior) para medir los coeficientes de 'Gini impurity' e 'Information Gain' para ciertas preguntas y ciertos nodos\n",
    "\n",
    "3) Pedir a un compañero de construir un pequeño dataset de test siguiendo el mismo formato que el dataset de entrenamiento\n",
    "\n",
    "4) Visualizar el arbol de decisión aprendido\n",
    "\n",
    "5) Evaluar la Precision y el Recall de su modelo\n"
   ]
  },
  {
   "cell_type": "code",
   "execution_count": 18,
   "metadata": {},
   "outputs": [],
   "source": [
    "import pandas as pd  \n",
    "import numpy as np \n",
    "\n",
    "import pandas as pd  \n",
    "import numpy as np \n",
    "from sklearn.model_selection import train_test_split\n",
    "\n",
    "dataset = pd.read_csv('bill_authentication.csv')\n",
    "X = dataset.iloc[:, 0:4].values  \n",
    "y = dataset.iloc[:, 4].values\n",
    "X_train, X_test, y_train, y_test = train_test_split(X, y, test_size=0.2, random_state=0)"
   ]
  },
  {
   "cell_type": "code",
   "execution_count": 19,
   "metadata": {},
   "outputs": [],
   "source": [
    "def unique_vals(rows, col):\n",
    "    \"\"\"Find the unique values for a column in a dataset.\"\"\"\n",
    "    return set([row[col] for row in rows])\n"
   ]
  },
  {
   "cell_type": "code",
   "execution_count": 20,
   "metadata": {},
   "outputs": [],
   "source": [
    "def class_counts(rows):\n",
    "    \"\"\"Counts the number of each type of example in a dataset.\"\"\"\n",
    "    counts = {}  # a dictionary of label -> count.\n",
    "    for row in rows:\n",
    "        # in our dataset format, the label is always the last column\n",
    "        if row not in counts:\n",
    "            counts[row] = 0\n",
    "        counts[row] += 1\n",
    "    return counts"
   ]
  },
  {
   "cell_type": "code",
   "execution_count": 21,
   "metadata": {},
   "outputs": [
    {
     "name": "stdout",
     "output_type": "stream",
     "text": [
      "{0.24261, 1.2279, 1.6349, 3.9433, 4.3848, 2.3164, 2.9695, 2.6463, 4.052, 5.1213, 6.8248, 3.5152, 3.8384, 4.7072, 5.0214, 2.9939999999999998, 3.7439999999999998, 0.74841, -1.1188, -1.5075, 4.6464, 0.007124899999999999, -2.1674, -2.9662, 4.9923, 5.2012, 5.2620000000000005, 1.7425, -1.8215, -0.3489, -6.7526, -5.2406, -5.1216, 0.7225199999999999, 2.7213, -1.8076, 2.8523, -1.2528, 3.9362, -3.9204, 3.6922, -0.60975, 1.2198, 1.8799, 0.8829799999999999, 0.11685999999999999, 1.5691, 1.8373, 1.7748, 2.2123, 2.4486, 0.049175, -3.5681, -3.5741, -3.0193, 4.988, -2.9019999999999997, 4.6361, -2.7419, -0.60254, -1.0116, -1.4217, -6.4247, 1.2247, 1.6408, 0.9270299999999999, -0.64326, 2.6682, 3.1896, -2.0891, -2.0754, 1.9321, -2.8391, -2.5754, 1.7331, -0.40951, -0.7784800000000001, 0.26877, 0.19080999999999998, 0.062525, 0.3434, 2.5068, 2.1943, -1.0555, 3.583, -3.9594, 3.2294, 3.6181, 3.4246, 3.577, -2.8267, -1.7582, -1.8969, -1.682, -1.4106, 6.5633, 2.0466, 2.9233, 3.2051, -4.8554, 3.2692, 3.0329, 1.0117, -0.28015, 1.9340000000000002, 1.3518, 2.6917, -1.1497, 2.2893, -3.8858, 4.2756, -2.456, -2.1786, -2.6649, 4.7114, 5.2756, -1.8584, -1.5322, -0.09219400000000001, -0.9540299999999999, 0.017269999999999997, 2.5089, -3.0061, -2.1234, -1.6662, -1.6936, -0.49948000000000004, -0.40857, 0.5195, 0.54777, -0.12624000000000002, 0.90407, -0.9607, 0.64295, -0.5081600000000001, -0.89569, -0.74324, 2.4391, 2.0153, -1.6386, -1.9725, 3.3004, -3.73, 4.7285, -2.9098, 4.3398, 4.8278, 5.7867, 5.1129, 5.7456, -0.98193, -6.9599, -1.4094, 1.645, -5.0301, -1.7589, -4.6765, -4.8426, -1.5851, -3.0866, -0.23356, 0.051979, -0.94255, -2.62, -2.2527, 2.7961, -1.6001, -0.41645, 4.4682, -2.3242, -2.2617, 4.0932, 4.3937, 5.7353, 5.3586, -1.0802, -7.0421, 4.0127, 0.11805999999999998, -5.525, -4.2887, -4.8392, -4.4779, 3.8496, 3.9121, 3.3299, 0.5393600000000001, -1.6029, -1.7279, 0.47368000000000005, 0.49571000000000004, -0.11715999999999999, -0.83535, 2.8209, 2.4673, 2.0007, -1.2568, 3.0632, -0.9854, 3.7935, 3.9382, 3.7798, 4.1454, 4.1197, -2.0631, 3.5358, 4.0632, -2.8619, -1.5768, -1.1667, -1.5219999999999998, 0.61652, -1.3968, -4.2091, -1.8343, -4.0173, 2.6946, 3.9232, -3.2305, -3.6817, 3.7982, 3.9994, 0.33565, -2.3221, -2.3983, -2.6406, 1.9157, 1.6032, -0.014902, -0.21661, 0.20976999999999998, -0.1269, -0.7351, 2.6719, -0.016103, -3.6085, 3.6582, 0.518, -3.7181, 4.2772, 4.8851, 1.518, -2.4835, 4.2969, 5.0452, -1.8782, -2.4621, -1.3659999999999999, 2.3718, 2.7391, 2.0165, 3.0242, 0.67886, -3.1158, -2.0336, -2.9146, -2.5961, -0.8980899999999999, -1.2667, -1.4572, -0.90784, -1.4904, -1.4446, 0.66191, -1.7781, 1.1472, -1.9881, 0.63655, -0.8471, 1.0009, 2.1616, 2.1265, -1.7697, -0.6907800000000001, 0.030219, 2.5503, 0.5623199999999999, 4.2027, -2.0897, 4.2164, 4.7181, 1.5077, 5.3063, 5.8782, 1.3264, -0.82601, -0.88728, 2.1526, 2.9163, 2.0139, 2.7365, 3.4591, -3.5713, 0.11032, -0.21394000000000002, 0.18868, 1.3114, 1.8114, 1.04, 1.4501, 2.4287, 3.7352, 3.9364, 3.534, 4.0948, 4.5597, 4.5691, -5.2049, 2.031, -4.0679, -4.1244, -1.9551, 3.9899, -3.6227, -2.9138, 1.0235, -2.234, -0.39416, -0.048007999999999995, 0.37984, -0.29858, -0.33729000000000003, 0.40614, 1.2309, 2.1059, -1.4427, 2.0922, -1.8391, -0.006891899999999999, 3.5862, 4.4338, -2.2918, -2.1668, 1.6472, 5.0297, -1.749, 1.0284, 2.9736, 2.0421, 2.9719, -4.3967, 2.7296, 3.9719, -3.7503, -2.5919, -0.16735, -1.1193, 1.8533, 2.7206, 2.2634, 2.4859999999999998, 2.7831, -1.2244, 2.5605, -3.4605, 2.5331, 4.4295, -0.77995, 5.4021, 5.7403, -0.65767, 1.6019999999999999, 2.108, 2.483, 2.4008, -1.3995, 3.7818, -3.0731, 3.9479, -3.3582, 3.7758, -0.17296, 1.8993, -2.0046, 0.6005, -0.8940899999999999, 0.66365, -0.55008, -0.9358700000000001, -0.76794, 0.6549699999999999, 0.88992, 0.88444, 0.86736, 0.68087, 1.8216, 2.9543, -0.8734, -3.9297, 4.4072, -2.2482, -1.3946, -1.9922, 0.58982, -6.1536, -0.3481, -4.9447, 3.9102, -3.5637, 0.9670799999999999, 3.8905, 0.74054, 3.4667, -1.8411, -1.2786, -1.3274, 0.22432, -0.10647999999999999, 1.1315, 2.3678, -1.8974, 2.3952, 3.9166, 0.8135600000000001, 0.33111, -3.8073, 3.2351, 4.1529, 4.2899, -2.565, 5.0185, 0.0040545, 5.438, -0.53966, -0.13144, -6.5235, 1.8314, -5.4901, 0.89512, 1.8994, -4.211, 3.5189, -0.82053, 3.8999, 3.1088, -2.5526, -2.7264, -1.5252, -0.49281, 0.16358, -0.46651000000000004, 0.6212, -0.21888000000000002, 0.39011999999999997, 1.3087, 1.5099, -1.6988, 3.6289, -3.3604, -3.0265, 3.7522, 0.58836, 4.2188, -2.1241, 4.1349, 0.7406699999999999, -0.062025, 4.5707, -0.81479, 5.807, 0.94225, -0.83121, 0.80355, -0.27068000000000003, 0.94732, -1.1804, -4.2932, -3.2778, -2.2153, -1.979, -1.1391, -0.16682, 0.64215, 0.96441, 1.7496, 2.5698, -1.4454, 2.1948, -3.3553, -3.5916, 4.9294, 4.0972, -2.3142, 1.3183, 0.87256, -1.8356, 1.9358, -1.2943, -4.2333, 2.1721, 3.4769, 0.7057, 3.2697, 3.5257, 1.0182, 1.7819, 1.1432, -0.69745, 1.5456, -1.5732, -2.2804, -3.6961, -2.5912, -2.5639999999999996, -0.278, 1.581, -2.4953, 3.7022, 3.5127, 3.2704, -2.0441, -1.3885, 2.6648, 2.2517, 3.9529, 3.866, 3.3848, 2.3917, 2.7744, -1.6706, 3.3583, -3.5180000000000002, -3.3793, 3.5458, -0.97325, 4.0715, 1.9818, -1.9983, -0.51003, 0.74307, 0.3798, -1.8046, -0.52645, -4.4996, 3.2303, -3.5895, 3.7791, -0.66008, 0.52855, 1.3754, 1.3403, 2.0843, 2.229, 3.2718, 4.223, -2.286, -2.8989999999999996, 4.9362, -2.3211, 5.4944, 4.0552, 4.1665, 4.1605, -1.8348, -2.7723, -1.786, -0.55355, -3.6012, 1.8664, -0.70867, 2.6104, -4.1409, 2.0051, -4.7462, 3.9414, 0.025013, -3.2051, 3.2414, -3.551, 3.4092, 3.6575, -2.3147, -2.5724, -3.5801, 0.75736, 1.6988, -2.5373, -1.7599, -0.24811, 0.17346, 0.27331, 0.4339, 0.29961, -0.37013, 1.4276, 0.60731, 0.26516999999999996, 0.91315, 2.6562, 2.3925, -1.7263, -1.2537, -1.4275, 3.1836, 0.55298, 4.1425, -2.5463, -2.9915, 4.6014, 4.6562, 5.1776, 5.086, -1.0112, -1.5951, 5.2418, -2.2261, 0.12125999999999999, -1.7064, 1.3638, 2.8561, -1.0401, -1.6514, 3.0864, -3.8053, 3.946, -3.8952, -2.2625, -2.2214, 1.3349, -1.7976, 0.2346, -0.12195999999999999, 3.8846, 1.2572, 2.7161, -1.7015, 3.8197, -3.3203, -3.8203, 4.8077, -2.1405, -2.4941, 4.0680000000000005, 0.5593899999999999, 5.681, -1.5078, -1.8554, -1.3066, -1.0292, 0.9297, -6.1632, 0.66018, -0.77688, -0.8172, 0.64376, 2.8261, 2.9571, 2.8672, 3.0333, 3.5761, 3.9922, 3.2422, -2.4115, -2.343, -0.7034600000000001, 0.95626, 0.56953, 0.77805, 0.39559, 0.5734, 0.89566, -0.69572, -0.87834, -0.11782999999999999, 2.9421, -1.1005, 3.5594, 3.1219, 4.0962, 4.8368, -2.1979, 4.1373, 0.83625, 5.032, 0.11739000000000001, -0.7056, 0.0096613, 2.5367, -1.8030000000000002, -1.0744, 3.1557, -3.3884, -2.7908, -2.0545, -2.0759, 3.5251, 0.24835, 0.6818, 1.4806, 1.8967, 1.8205, -1.4233, 2.877, -1.2846, 3.4669, -3.9933, -3.0986, 4.5645, 5.2032, -0.38388, 1.1317, -5.872999999999999, -0.62684, -0.539, -4.2249, -4.1958, 3.5829, -3.1273, -2.1333, -2.8833, -2.1059, 0.3223, -0.36506, -0.27802, 0.27451, -0.36025, -0.30432, 1.0191, -0.2951, -0.49081, -0.24745, -3.793, -1.5449, 2.5328, 3.4626, -3.3863, -3.1423, 3.4566, -3.5798, 4.0405, 4.7965, 4.5679, 4.3239, 4.4549, 1.6426, -1.6637, -2.6286, 0.50813, 0.77765, -6.3679, 1.7875, -5.0477, 2.1274, -4.4775, -1.7063, -4.3876, 3.9262, 3.3577, -0.62043, 3.6077, 1.3562, 1.5514, -2.4561, -2.659, 0.24394000000000002, -0.26654, 2.5559, 1.2999, 1.0987, 2.3136, 3.8213, 3.966, 4.9249, -2.799, 4.0422, -2.3675, 4.0713, 5.3915, -1.4377, 5.591, 4.6689, 1.1811, -0.64472, -6.3979, -0.49241, 1.0135, -5.2943, 0.9657399999999999, 0.8960600000000001, -1.6952, -4.4861, -4.1479, 3.3397, -3.1128, 3.7635, 3.8962, 3.4647, 3.82, -2.6479, 1.9572, -2.4604, 0.066129, -1.7104, -1.9116, -1.4174, -0.77288, 1.0552, 1.296, -0.72068, 1.8238, -1.3389, 0.21431, 0.76163, -1.3, -0.9131799999999999, 1.5799, 1.8384, 0.38251, 2.8521, 4.2478, 3.9771, 3.4985, 4.1038, 4.2134, 4.4069, -6.2815, 1.3234, 1.2746, -1.9555, -2.588, -2.0529, 1.1558, 1.162, 1.6406, 2.8084, 2.2596, -1.1306, -1.5681, 3.6894, 0.5706, -0.4294, -3.9172, -3.9934, 4.3435, -2.3409999999999997, 4.5447, 4.3846, -2.7143, 0.93584, 1.9105, 4.1757, -6.5084, -6.7387, 1.5631, -5.3012, 0.7049, -0.59587, 2.2429, -4.0786, 2.6881, 2.1881, 3.6667, 3.6941, 3.5982, 3.3756, -3.8894, -3.8483, -2.6685, -2.5084, -2.2173, -1.3971, -1.8483, -1.5572, 0.3292, -0.39816, -0.41965, 0.44125, -0.45061999999999997, 0.81583, 1.1166, -0.025314, 2.888, 2.9856, 2.2279, 2.5678, 3.7569999999999997, -3.0799, -3.3924, 3.4642, 3.4916, 4.65, -2.121, -2.4198, -2.9883, -2.2811, 5.1731, -2.0662, 4.1654, -0.11996, 0.12326, -6.0598, -1.7886, 2.0177, 3.2403, -3.38, -1.005, 0.20215999999999998, 0.21084, -0.77461, -0.61442, 1.0652, 2.614, 3.5438, 3.6277, 3.245, 4.9342, 4.6765, 4.1962, 4.8272, -2.7914, -2.2623, -2.0962, -1.1313, 4.364, -0.071503, -0.0012852, 1.105, 2.1752, 2.4235, 3.9663, 3.5288, 3.4663, 3.4312, -3.8552, -3.8826, -2.4725, -2.41, -2.7028, -2.5701, -2.2987, -1.6677, 0.87603, -0.9592299999999999, 0.96788, 0.8887200000000001, 0.74521, 0.84546, 0.38478, -0.86339, -0.63298, 0.8620200000000001, 0.4283, 1.3049, -1.5228, 2.6799, -1.9389, -3.2238, 5.7227, 0.86816, -6.3364, 1.5673, -0.55648, -0.28696, 2.4012, -4.0025, -4.1429, -0.87874, 3.8584, -3.8167, -2.3518, 1.7747, -2.0042, 0.5415, 1.4896, -1.0941, 0.15423, 0.1848, 1.9409999999999998, 2.8297, 2.4196, 3.7321, -3.2692, 3.8023, 3.0934, 4.1542, 4.6499, 4.6054, 1.3419, 4.0446, 5.0429, -1.4781, -1.5055, 5.8862, 4.2458, -6.2003, -5.8818, 2.7659, -4.2859, 2.6606, 2.8969, 2.3969, 3.8481, 0.26637, 3.8969, -4.577, 2.2034, -2.5419, 0.51947, 3.9292, -0.2062, 0.32444, 0.25035, 0.75108, 0.7589600000000001, 1.2706, -0.78289, 2.1319, -1.9458, 3.8117, 4.1927, 4.7432, 1.9429, 1.1518, 1.5268, 5.1302, 5.0617, -0.24036999999999997, 1.8592, 1.2616, -5.0676, 2.3729, 2.0193, -4.8861, -1.7322, 3.3669, -3.5933, 3.9294, 3.8027, 1.594, -2.2183, -2.0659, -2.7611, -2.4349, -1.9409, 0.59823, -0.96511, -1.7549, 2.2526, 3.6216, 4.2586, -2.3797, 4.2406, 4.3365, 1.7939, 5.8519, 4.0026, 0.11592000000000001, 0.96414, 0.7376, -5.1661, -5.6370000000000005, -5.119, -1.4375, 2.5989, -4.0214, 2.5227, -1.8187, 3.5912, -3.1875, 3.4465, -3.0, 0.31803000000000003, 3.884, -2.9786, -2.5899, -7.0364, -6.5773, -5.9034, -4.4018, -3.7573, -2.0285, -1.9966}\n",
      "{1: 492, 0: 605}\n"
     ]
    }
   ],
   "source": [
    "print(unique_vals(X_train, 0))\n",
    "print(class_counts(y_train))\n",
    "\n"
   ]
  },
  {
   "cell_type": "code",
   "execution_count": 70,
   "metadata": {},
   "outputs": [],
   "source": [
    "my_tree = build_tree(X_train)"
   ]
  },
  {
   "cell_type": "code",
   "execution_count": 96,
   "metadata": {},
   "outputs": [
    {
     "ename": "IndexError",
     "evalue": "list index out of range",
     "output_type": "error",
     "traceback": [
      "\u001b[0;31m---------------------------------------------------------------------------\u001b[0m",
      "\u001b[0;31mIndexError\u001b[0m                                Traceback (most recent call last)",
      "\u001b[0;32m<ipython-input-96-1fa7e65a823f>\u001b[0m in \u001b[0;36m<module>\u001b[0;34m()\u001b[0m\n\u001b[0;32m----> 1\u001b[0;31m \u001b[0mprint_tree\u001b[0m\u001b[0;34m(\u001b[0m\u001b[0mmy_tree\u001b[0m\u001b[0;34m)\u001b[0m\u001b[0;34m\u001b[0m\u001b[0m\n\u001b[0m",
      "\u001b[0;32m<ipython-input-60-cf48d5e9fa81>\u001b[0m in \u001b[0;36mprint_tree\u001b[0;34m(node, spacing)\u001b[0m\n\u001b[1;32m      8\u001b[0m \u001b[0;34m\u001b[0m\u001b[0m\n\u001b[1;32m      9\u001b[0m     \u001b[0;31m# Print the question at this node\u001b[0m\u001b[0;34m\u001b[0m\u001b[0;34m\u001b[0m\u001b[0m\n\u001b[0;32m---> 10\u001b[0;31m     \u001b[0mprint\u001b[0m \u001b[0;34m(\u001b[0m\u001b[0mspacing\u001b[0m \u001b[0;34m+\u001b[0m \u001b[0mstr\u001b[0m\u001b[0;34m(\u001b[0m\u001b[0mnode\u001b[0m\u001b[0;34m.\u001b[0m\u001b[0mquestion\u001b[0m\u001b[0;34m)\u001b[0m\u001b[0;34m)\u001b[0m\u001b[0;34m\u001b[0m\u001b[0m\n\u001b[0m\u001b[1;32m     11\u001b[0m \u001b[0;34m\u001b[0m\u001b[0m\n\u001b[1;32m     12\u001b[0m     \u001b[0;31m# Call this function recursively on the true branch\u001b[0m\u001b[0;34m\u001b[0m\u001b[0;34m\u001b[0m\u001b[0m\n",
      "\u001b[0;32m<ipython-input-36-35bfbc557788>\u001b[0m in \u001b[0;36m__repr__\u001b[0;34m(self)\u001b[0m\n\u001b[1;32m     28\u001b[0m             \u001b[0mcondition\u001b[0m \u001b[0;34m=\u001b[0m \u001b[0;34m\">=\"\u001b[0m\u001b[0;34m\u001b[0m\u001b[0m\n\u001b[1;32m     29\u001b[0m         return \"Is %s %s %s?\" % (\n\u001b[0;32m---> 30\u001b[0;31m             header[self.column], condition, str(self.value))\n\u001b[0m",
      "\u001b[0;31mIndexError\u001b[0m: list index out of range"
     ]
    }
   ],
   "source": [
    "print_tree(my_tree)"
   ]
  },
  {
   "cell_type": "code",
   "execution_count": 85,
   "metadata": {},
   "outputs": [
    {
     "name": "stdout",
     "output_type": "stream",
     "text": [
      "Actual: 1.0. Predicted: {0.0: '100%'}\n",
      "Actual: 0.0. Predicted: {1.0: '100%'}\n",
      "Actual: 1.0. Predicted: {1.0: '100%'}\n",
      "Actual: 1.0. Predicted: {1.0: '100%'}\n",
      "Actual: 1.0. Predicted: {1.0: '100%'}\n",
      "Actual: 1.0. Predicted: {0.0: '100%'}\n",
      "Actual: 1.0. Predicted: {1.0: '100%'}\n",
      "Actual: 0.0. Predicted: {0.0: '100%'}\n",
      "Actual: 1.0. Predicted: {1.0: '100%'}\n",
      "Actual: 1.0. Predicted: {1.0: '100%'}\n",
      "Actual: 1.0. Predicted: {1.0: '100%'}\n",
      "Actual: 1.0. Predicted: {1.0: '100%'}\n",
      "Actual: 1.0. Predicted: {1.0: '100%'}\n",
      "Actual: 1.0. Predicted: {1.0: '100%'}\n",
      "Actual: 1.0. Predicted: {1.0: '100%'}\n",
      "Actual: 1.0. Predicted: {1.0: '100%'}\n",
      "Actual: 1.0. Predicted: {1.0: '100%'}\n",
      "Actual: 1.0. Predicted: {1.0: '100%'}\n",
      "Actual: 1.0. Predicted: {0.0: '100%'}\n",
      "Actual: 1.0. Predicted: {1.0: '100%'}\n",
      "Actual: 1.0. Predicted: {1.0: '100%'}\n",
      "Actual: 1.0. Predicted: {1.0: '100%'}\n",
      "Actual: 0.0. Predicted: {0.0: '100%'}\n",
      "Actual: 1.0. Predicted: {1.0: '100%'}\n",
      "Actual: 0.0. Predicted: {0.0: '100%'}\n",
      "Actual: 0.0. Predicted: {0.0: '100%'}\n",
      "Actual: 0.0. Predicted: {0.0: '100%'}\n",
      "Actual: 0.0. Predicted: {0.0: '100%'}\n",
      "Actual: 1.0. Predicted: {1.0: '100%'}\n",
      "Actual: 1.0. Predicted: {1.0: '85%', 0.0: '14%'}\n",
      "Actual: 1.0. Predicted: {1.0: '100%'}\n",
      "Actual: 1.0. Predicted: {1.0: '100%'}\n",
      "Actual: 1.0. Predicted: {1.0: '100%'}\n",
      "Actual: 1.0. Predicted: {1.0: '100%'}\n",
      "Actual: 1.0. Predicted: {1.0: '100%'}\n",
      "Actual: 1.0. Predicted: {1.0: '85%', 0.0: '14%'}\n",
      "Actual: 1.0. Predicted: {1.0: '100%'}\n",
      "Actual: 1.0. Predicted: {1.0: '100%'}\n",
      "Actual: 1.0. Predicted: {0.0: '100%'}\n",
      "Actual: 1.0. Predicted: {1.0: '100%'}\n",
      "Actual: 0.0. Predicted: {1.0: '100%'}\n",
      "Actual: 0.0. Predicted: {0.0: '100%'}\n",
      "Actual: 1.0. Predicted: {1.0: '100%'}\n",
      "Actual: 1.0. Predicted: {1.0: '100%'}\n",
      "Actual: 0.0. Predicted: {0.0: '100%'}\n",
      "Actual: 1.0. Predicted: {1.0: '100%'}\n",
      "Actual: 1.0. Predicted: {1.0: '100%'}\n",
      "Actual: 1.0. Predicted: {1.0: '100%'}\n",
      "Actual: 1.0. Predicted: {0.0: '100%'}\n",
      "Actual: 1.0. Predicted: {1.0: '100%'}\n",
      "Actual: 1.0. Predicted: {1.0: '100%'}\n",
      "Actual: 0.0. Predicted: {1.0: '100%'}\n",
      "Actual: 1.0. Predicted: {1.0: '100%'}\n",
      "Actual: 1.0. Predicted: {0.0: '100%'}\n",
      "Actual: 1.0. Predicted: {1.0: '100%'}\n",
      "Actual: 1.0. Predicted: {1.0: '100%'}\n",
      "Actual: 1.0. Predicted: {1.0: '100%'}\n",
      "Actual: 1.0. Predicted: {1.0: '100%'}\n",
      "Actual: 1.0. Predicted: {0.0: '100%'}\n",
      "Actual: 1.0. Predicted: {1.0: '100%'}\n",
      "Actual: 0.0. Predicted: {0.0: '100%'}\n",
      "Actual: 1.0. Predicted: {1.0: '100%'}\n",
      "Actual: 1.0. Predicted: {1.0: '100%'}\n",
      "Actual: 1.0. Predicted: {1.0: '100%'}\n",
      "Actual: 1.0. Predicted: {1.0: '100%'}\n",
      "Actual: 1.0. Predicted: {1.0: '100%'}\n",
      "Actual: 0.0. Predicted: {0.0: '100%'}\n",
      "Actual: 1.0. Predicted: {1.0: '100%'}\n",
      "Actual: 1.0. Predicted: {1.0: '100%'}\n",
      "Actual: 0.0. Predicted: {0.0: '100%'}\n",
      "Actual: 0.0. Predicted: {0.0: '100%'}\n",
      "Actual: 1.0. Predicted: {1.0: '100%'}\n",
      "Actual: 1.0. Predicted: {1.0: '100%'}\n",
      "Actual: 0.0. Predicted: {0.0: '100%'}\n",
      "Actual: 0.0. Predicted: {0.0: '100%'}\n",
      "Actual: 1.0. Predicted: {1.0: '100%'}\n",
      "Actual: 1.0. Predicted: {1.0: '100%'}\n",
      "Actual: 1.0. Predicted: {1.0: '100%'}\n",
      "Actual: 1.0. Predicted: {1.0: '100%'}\n",
      "Actual: 1.0. Predicted: {1.0: '100%'}\n",
      "Actual: 0.0. Predicted: {0.0: '100%'}\n",
      "Actual: 1.0. Predicted: {1.0: '100%'}\n",
      "Actual: 0.0. Predicted: {1.0: '100%'}\n",
      "Actual: 1.0. Predicted: {1.0: '100%'}\n",
      "Actual: 1.0. Predicted: {1.0: '100%'}\n",
      "Actual: 1.0. Predicted: {1.0: '100%'}\n",
      "Actual: 1.0. Predicted: {1.0: '100%'}\n",
      "Actual: 1.0. Predicted: {1.0: '100%'}\n",
      "Actual: 1.0. Predicted: {1.0: '100%'}\n",
      "Actual: 0.0. Predicted: {0.0: '100%'}\n",
      "Actual: 1.0. Predicted: {1.0: '100%'}\n",
      "Actual: 1.0. Predicted: {1.0: '100%'}\n",
      "Actual: 1.0. Predicted: {1.0: '100%'}\n",
      "Actual: 1.0. Predicted: {1.0: '100%'}\n",
      "Actual: 1.0. Predicted: {1.0: '100%'}\n",
      "Actual: 1.0. Predicted: {1.0: '100%'}\n",
      "Actual: 1.0. Predicted: {1.0: '100%'}\n",
      "Actual: 1.0. Predicted: {1.0: '100%'}\n",
      "Actual: 1.0. Predicted: {0.0: '100%'}\n",
      "Actual: 0.0. Predicted: {1.0: '100%'}\n",
      "Actual: 1.0. Predicted: {1.0: '100%'}\n",
      "Actual: 0.0. Predicted: {1.0: '100%'}\n",
      "Actual: 0.0. Predicted: {0.0: '100%'}\n",
      "Actual: 0.0. Predicted: {0.0: '100%'}\n",
      "Actual: 1.0. Predicted: {1.0: '100%'}\n",
      "Actual: 0.0. Predicted: {0.0: '100%'}\n",
      "Actual: 1.0. Predicted: {1.0: '100%'}\n",
      "Actual: 1.0. Predicted: {1.0: '100%'}\n",
      "Actual: 1.0. Predicted: {1.0: '100%'}\n",
      "Actual: 1.0. Predicted: {1.0: '100%'}\n",
      "Actual: 0.0. Predicted: {0.0: '100%'}\n",
      "Actual: 1.0. Predicted: {1.0: '100%'}\n",
      "Actual: 1.0. Predicted: {0.0: '100%'}\n",
      "Actual: 1.0. Predicted: {1.0: '100%'}\n",
      "Actual: 1.0. Predicted: {0.0: '100%'}\n",
      "Actual: 1.0. Predicted: {1.0: '100%'}\n",
      "Actual: 0.0. Predicted: {0.0: '100%'}\n",
      "Actual: 1.0. Predicted: {1.0: '100%'}\n",
      "Actual: 1.0. Predicted: {1.0: '100%'}\n",
      "Actual: 0.0. Predicted: {0.0: '100%'}\n",
      "Actual: 1.0. Predicted: {1.0: '100%'}\n",
      "Actual: 1.0. Predicted: {1.0: '100%'}\n",
      "Actual: 0.0. Predicted: {0.0: '100%'}\n",
      "Actual: 0.0. Predicted: {0.0: '100%'}\n",
      "Actual: 1.0. Predicted: {1.0: '100%'}\n",
      "Actual: 1.0. Predicted: {1.0: '100%'}\n",
      "Actual: 1.0. Predicted: {1.0: '100%'}\n",
      "Actual: 0.0. Predicted: {0.0: '100%'}\n",
      "Actual: 0.0. Predicted: {0.0: '100%'}\n",
      "Actual: 1.0. Predicted: {0.0: '100%'}\n",
      "Actual: 1.0. Predicted: {1.0: '100%'}\n",
      "Actual: 1.0. Predicted: {1.0: '100%'}\n",
      "Actual: 1.0. Predicted: {0.0: '100%'}\n",
      "Actual: 1.0. Predicted: {1.0: '85%', 0.0: '14%'}\n",
      "Actual: 1.0. Predicted: {1.0: '100%'}\n",
      "Actual: 1.0. Predicted: {1.0: '100%'}\n",
      "Actual: 1.0. Predicted: {1.0: '100%'}\n",
      "Actual: 0.0. Predicted: {1.0: '100%'}\n",
      "Actual: 0.0. Predicted: {1.0: '100%'}\n",
      "Actual: 1.0. Predicted: {1.0: '100%'}\n",
      "Actual: 1.0. Predicted: {1.0: '100%'}\n",
      "Actual: 1.0. Predicted: {1.0: '100%'}\n",
      "Actual: 1.0. Predicted: {1.0: '100%'}\n",
      "Actual: 0.0. Predicted: {0.0: '100%'}\n",
      "Actual: 1.0. Predicted: {1.0: '100%'}\n",
      "Actual: 1.0. Predicted: {1.0: '100%'}\n",
      "Actual: 1.0. Predicted: {1.0: '100%'}\n",
      "Actual: 1.0. Predicted: {1.0: '100%'}\n",
      "Actual: 1.0. Predicted: {1.0: '100%'}\n",
      "Actual: 1.0. Predicted: {1.0: '100%'}\n",
      "Actual: 1.0. Predicted: {0.0: '100%'}\n",
      "Actual: 1.0. Predicted: {0.0: '100%'}\n",
      "Actual: 0.0. Predicted: {0.0: '100%'}\n",
      "Actual: 1.0. Predicted: {1.0: '100%'}\n",
      "Actual: 1.0. Predicted: {1.0: '100%'}\n",
      "Actual: 1.0. Predicted: {1.0: '100%'}\n",
      "Actual: 1.0. Predicted: {1.0: '85%', 0.0: '14%'}\n",
      "Actual: 0.0. Predicted: {0.0: '100%'}\n",
      "Actual: 1.0. Predicted: {1.0: '100%'}\n",
      "Actual: 1.0. Predicted: {1.0: '100%'}\n",
      "Actual: 1.0. Predicted: {1.0: '100%'}\n",
      "Actual: 0.0. Predicted: {1.0: '100%'}\n",
      "Actual: 0.0. Predicted: {0.0: '100%'}\n",
      "Actual: 1.0. Predicted: {1.0: '100%'}\n",
      "Actual: 1.0. Predicted: {1.0: '100%'}\n",
      "Actual: 1.0. Predicted: {1.0: '100%'}\n",
      "Actual: 0.0. Predicted: {0.0: '100%'}\n",
      "Actual: 1.0. Predicted: {1.0: '100%'}\n",
      "Actual: 0.0. Predicted: {0.0: '50%', 1.0: '50%'}\n",
      "Actual: 1.0. Predicted: {1.0: '100%'}\n",
      "Actual: 1.0. Predicted: {0.0: '100%'}\n",
      "Actual: 1.0. Predicted: {1.0: '100%'}\n",
      "Actual: 1.0. Predicted: {1.0: '100%'}\n",
      "Actual: 1.0. Predicted: {1.0: '100%'}\n",
      "Actual: 1.0. Predicted: {1.0: '100%'}\n",
      "Actual: 1.0. Predicted: {1.0: '100%'}\n",
      "Actual: 1.0. Predicted: {1.0: '100%'}\n",
      "Actual: 1.0. Predicted: {1.0: '100%'}\n",
      "Actual: 1.0. Predicted: {1.0: '100%'}\n",
      "Actual: 1.0. Predicted: {0.0: '100%'}\n",
      "Actual: 1.0. Predicted: {1.0: '100%'}\n",
      "Actual: 1.0. Predicted: {1.0: '100%'}\n",
      "Actual: 1.0. Predicted: {1.0: '100%'}\n",
      "Actual: 0.0. Predicted: {0.0: '100%'}\n",
      "Actual: 1.0. Predicted: {1.0: '100%'}\n",
      "Actual: 1.0. Predicted: {1.0: '100%'}\n",
      "Actual: 1.0. Predicted: {1.0: '100%'}\n",
      "Actual: 1.0. Predicted: {1.0: '100%'}\n",
      "Actual: 1.0. Predicted: {1.0: '100%'}\n",
      "Actual: 1.0. Predicted: {1.0: '100%'}\n",
      "Actual: 1.0. Predicted: {1.0: '100%'}\n",
      "Actual: 0.0. Predicted: {1.0: '100%'}\n",
      "Actual: 1.0. Predicted: {1.0: '100%'}\n",
      "Actual: 1.0. Predicted: {1.0: '100%'}\n",
      "Actual: 0.0. Predicted: {1.0: '100%'}\n",
      "Actual: 0.0. Predicted: {1.0: '100%'}\n",
      "Actual: 1.0. Predicted: {1.0: '100%'}\n",
      "Actual: 0.0. Predicted: {0.0: '100%'}\n",
      "Actual: 0.0. Predicted: {1.0: '100%'}\n",
      "Actual: 0.0. Predicted: {0.0: '100%'}\n",
      "Actual: 1.0. Predicted: {1.0: '100%'}\n",
      "Actual: 1.0. Predicted: {1.0: '100%'}\n",
      "Actual: 1.0. Predicted: {1.0: '100%'}\n",
      "Actual: 0.0. Predicted: {1.0: '100%'}\n",
      "Actual: 1.0. Predicted: {1.0: '100%'}\n",
      "Actual: 1.0. Predicted: {1.0: '100%'}\n",
      "Actual: 1.0. Predicted: {1.0: '100%'}\n",
      "Actual: 0.0. Predicted: {0.0: '100%'}\n",
      "Actual: 1.0. Predicted: {1.0: '100%'}\n",
      "Actual: 0.0. Predicted: {0.0: '100%'}\n",
      "Actual: 0.0. Predicted: {0.0: '100%'}\n",
      "Actual: 1.0. Predicted: {1.0: '100%'}\n",
      "Actual: 1.0. Predicted: {1.0: '100%'}\n",
      "Actual: 1.0. Predicted: {1.0: '100%'}\n",
      "Actual: 1.0. Predicted: {1.0: '100%'}\n",
      "Actual: 0.0. Predicted: {0.0: '100%'}\n",
      "Actual: 1.0. Predicted: {1.0: '100%'}\n",
      "Actual: 0.0. Predicted: {0.0: '100%'}\n",
      "Actual: 1.0. Predicted: {1.0: '100%'}\n",
      "Actual: 1.0. Predicted: {1.0: '100%'}\n",
      "Actual: 1.0. Predicted: {1.0: '100%'}\n",
      "Actual: 1.0. Predicted: {0.0: '100%'}\n",
      "Actual: 1.0. Predicted: {1.0: '100%'}\n",
      "Actual: 1.0. Predicted: {1.0: '100%'}\n",
      "Actual: 0.0. Predicted: {0.0: '100%'}\n",
      "Actual: 1.0. Predicted: {1.0: '100%'}\n",
      "Actual: 1.0. Predicted: {1.0: '100%'}\n",
      "Actual: 1.0. Predicted: {1.0: '100%'}\n",
      "Actual: 1.0. Predicted: {1.0: '100%'}\n",
      "Actual: 1.0. Predicted: {0.0: '100%'}\n",
      "Actual: 1.0. Predicted: {1.0: '100%'}\n",
      "Actual: 1.0. Predicted: {1.0: '100%'}\n",
      "Actual: 1.0. Predicted: {0.0: '100%'}\n",
      "Actual: 0.0. Predicted: {0.0: '100%'}\n",
      "Actual: 1.0. Predicted: {1.0: '100%'}\n",
      "Actual: 0.0. Predicted: {0.0: '100%'}\n",
      "Actual: 1.0. Predicted: {1.0: '100%'}\n",
      "Actual: 1.0. Predicted: {0.0: '100%'}\n",
      "Actual: 0.0. Predicted: {0.0: '100%'}\n",
      "Actual: 0.0. Predicted: {0.0: '100%'}\n",
      "Actual: 1.0. Predicted: {1.0: '100%'}\n",
      "Actual: 1.0. Predicted: {1.0: '85%', 0.0: '14%'}\n",
      "Actual: 1.0. Predicted: {1.0: '100%'}\n",
      "Actual: 0.0. Predicted: {0.0: '100%'}\n",
      "Actual: 1.0. Predicted: {1.0: '100%'}\n",
      "Actual: 1.0. Predicted: {1.0: '100%'}\n",
      "Actual: 1.0. Predicted: {1.0: '100%'}\n",
      "Actual: 0.0. Predicted: {0.0: '100%'}\n",
      "Actual: 1.0. Predicted: {1.0: '100%'}\n",
      "Actual: 1.0. Predicted: {1.0: '100%'}\n",
      "Actual: 1.0. Predicted: {1.0: '100%'}\n",
      "Actual: 1.0. Predicted: {1.0: '100%'}\n",
      "Actual: 1.0. Predicted: {1.0: '100%'}\n",
      "Actual: 0.0. Predicted: {0.0: '100%'}\n",
      "Actual: 0.0. Predicted: {1.0: '100%'}\n",
      "Actual: 0.0. Predicted: {0.0: '100%'}\n",
      "Actual: 1.0. Predicted: {1.0: '100%'}\n",
      "Actual: 1.0. Predicted: {1.0: '100%'}\n",
      "Actual: 1.0. Predicted: {1.0: '100%'}\n",
      "Actual: 0.0. Predicted: {1.0: '100%'}\n",
      "Actual: 0.0. Predicted: {1.0: '100%'}\n",
      "Actual: 1.0. Predicted: {1.0: '100%'}\n",
      "Actual: 1.0. Predicted: {1.0: '100%'}\n",
      "Actual: 1.0. Predicted: {1.0: '100%'}\n",
      "Actual: 1.0. Predicted: {1.0: '100%'}\n",
      "Actual: 1.0. Predicted: {1.0: '100%'}\n",
      "Actual: 1.0. Predicted: {1.0: '100%'}\n"
     ]
    }
   ],
   "source": [
    "Expected=[]\n",
    "Predicted=[]\n",
    "for row in X_test:\n",
    "    Expected.append(row[-1])\n",
    "    \n",
    "    Predicted.append(print_leaf(classify(row, my_tree)))\n",
    "    \n",
    "    print (\"Actual: %s. Predicted: %s\" %\n",
    "           (row[-1], print_leaf(classify(row, my_tree))))"
   ]
  },
  {
   "cell_type": "code",
   "execution_count": 95,
   "metadata": {},
   "outputs": [
    {
     "name": "stdout",
     "output_type": "stream",
     "text": [
      "[[ 49  17]\n",
      " [ 20 181]]\n",
      "             precision    recall  f1-score   support\n",
      "\n",
      "        0.0       0.71      0.74      0.73        66\n",
      "        1.0       0.91      0.90      0.91       201\n",
      "\n",
      "avg / total       0.86      0.86      0.86       267\n",
      "\n"
     ]
    }
   ],
   "source": [
    "PredictedFixed=[]\n",
    "for x in Predicted:\n",
    "    index=str(x)\n",
    "    index=index[1:4]\n",
    "    index=float(index)\n",
    "    PredictedFixed.append(index)\n",
    "from sklearn.metrics import confusion_matrix\n",
    "confusion_matrix = confusion_matrix(Expected, PredictedFixed)\n",
    "print(confusion_matrix)\n",
    "#Print de la matriz de confusión\n",
    "from sklearn.metrics import classification_report\n",
    "print(classification_report(Expected, PredictedFixed))"
   ]
  },
  {
   "cell_type": "code",
   "execution_count": 75,
   "metadata": {},
   "outputs": [],
   "source": [
    "feature_cols=list(dataset)\n",
    "feature_cols.remove('Class')"
   ]
  },
  {
   "cell_type": "code",
   "execution_count": 78,
   "metadata": {},
   "outputs": [
    {
     "name": "stdout",
     "output_type": "stream",
     "text": [
      "[[133  31]\n",
      " [ 22  81]]\n",
      "             precision    recall  f1-score   support\n",
      "\n",
      "          0       0.86      0.81      0.83       164\n",
      "          1       0.72      0.79      0.75       103\n",
      "\n",
      "avg / total       0.81      0.80      0.80       267\n",
      "\n"
     ]
    }
   ],
   "source": [
    "\n",
    "from sklearn.cross_validation import train_test_split\n",
    "X_train, X_test, y_train, y_test = train_test_split(X, y, test_size = .3, random_state=25)\n",
    "\n",
    "from sklearn import tree\n",
    "#Entrenamiento\n",
    "clf = tree.DecisionTreeClassifier().fit(X_train,y_train)\n",
    "#Predicciones\n",
    "y_pred = clf.predict(X_test)\n",
    "#Evaluación del rendimiento del clasificador\n",
    "from sklearn.metrics import confusion_matrix\n",
    "confusion_matrix = confusion_matrix(y_test, y_pred)\n",
    "print(confusion_matrix)\n",
    "#Print de la matriz de confusión\n",
    "from sklearn.metrics import classification_report\n",
    "print(classification_report(y_test, y_pred))"
   ]
  },
  {
   "cell_type": "code",
   "execution_count": 79,
   "metadata": {},
   "outputs": [
    {
     "ename": "ValueError",
     "evalue": "Length of feature_names, 4 does not match number of features, 8",
     "output_type": "error",
     "traceback": [
      "\u001b[0;31m---------------------------------------------------------------------------\u001b[0m",
      "\u001b[0;31mValueError\u001b[0m                                Traceback (most recent call last)",
      "\u001b[0;32m<ipython-input-79-ab2dca27b499>\u001b[0m in \u001b[0;36m<module>\u001b[0;34m()\u001b[0m\n\u001b[1;32m      6\u001b[0m \u001b[0mclasses\u001b[0m\u001b[0;34m=\u001b[0m\u001b[0;34m[\u001b[0m\u001b[0;34m'1'\u001b[0m\u001b[0;34m,\u001b[0m\u001b[0;34m'0'\u001b[0m\u001b[0;34m]\u001b[0m\u001b[0;34m\u001b[0m\u001b[0m\n\u001b[1;32m      7\u001b[0m tree.export_graphviz(clf,out_file=dot_data,feature_names=feature_cols,class_names=classes, filled=True, \n\u001b[0;32m----> 8\u001b[0;31m                      rounded=True, impurity=False)\n\u001b[0m\u001b[1;32m      9\u001b[0m \u001b[0;34m\u001b[0m\u001b[0m\n\u001b[1;32m     10\u001b[0m \u001b[0mgraph\u001b[0m \u001b[0;34m=\u001b[0m \u001b[0mpydot\u001b[0m\u001b[0;34m.\u001b[0m\u001b[0mgraph_from_dot_data\u001b[0m\u001b[0;34m(\u001b[0m\u001b[0mdot_data\u001b[0m\u001b[0;34m.\u001b[0m\u001b[0mgetvalue\u001b[0m\u001b[0;34m(\u001b[0m\u001b[0;34m)\u001b[0m\u001b[0;34m)\u001b[0m\u001b[0;34m\u001b[0m\u001b[0m\n",
      "\u001b[0;32m/usr/local/lib64/python3.6/site-packages/sklearn/tree/export.py\u001b[0m in \u001b[0;36mexport_graphviz\u001b[0;34m(decision_tree, out_file, max_depth, feature_names, class_names, label, filled, leaves_parallel, impurity, node_ids, proportion, rotate, rounded, special_characters, precision)\u001b[0m\n\u001b[1;32m    427\u001b[0m                                  \u001b[0;34m\"does not match number of features, %d\"\u001b[0m\u001b[0;34m\u001b[0m\u001b[0m\n\u001b[1;32m    428\u001b[0m                                  % (len(feature_names),\n\u001b[0;32m--> 429\u001b[0;31m                                     decision_tree.n_features_))\n\u001b[0m\u001b[1;32m    430\u001b[0m \u001b[0;34m\u001b[0m\u001b[0m\n\u001b[1;32m    431\u001b[0m         \u001b[0;31m# The depth of each node for plotting with 'leaf' option\u001b[0m\u001b[0;34m\u001b[0m\u001b[0;34m\u001b[0m\u001b[0m\n",
      "\u001b[0;31mValueError\u001b[0m: Length of feature_names, 4 does not match number of features, 8"
     ]
    }
   ],
   "source": [
    "from sklearn.externals.six import StringIO\n",
    "import pydot #sudo python3.6 -m pip install pydot\n",
    "\n",
    "dot_data = StringIO()\n",
    "\n",
    "classes=['1','0']\n",
    "tree.export_graphviz(clf,out_file=dot_data,feature_names=feature_cols,class_names=classes, filled=True, \n",
    "                     rounded=True, impurity=False)\n",
    "\n",
    "graph = pydot.graph_from_dot_data(dot_data.getvalue())\n",
    "graph[0].write_png('arbolAprendido.png')"
   ]
  },
  {
   "cell_type": "code",
   "execution_count": null,
   "metadata": {},
   "outputs": [],
   "source": []
  }
 ],
 "metadata": {
  "kernelspec": {
   "display_name": "Python 3",
   "language": "python",
   "name": "python3"
  },
  "language_info": {
   "codemirror_mode": {
    "name": "ipython",
    "version": 3
   },
   "file_extension": ".py",
   "mimetype": "text/x-python",
   "name": "python",
   "nbconvert_exporter": "python",
   "pygments_lexer": "ipython3",
   "version": "3.6.6"
  }
 },
 "nbformat": 4,
 "nbformat_minor": 2
}
